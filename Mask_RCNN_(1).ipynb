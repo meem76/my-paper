{
  "nbformat": 4,
  "nbformat_minor": 0,
  "metadata": {
    "colab": {
      "provenance": []
    },
    "kernelspec": {
      "name": "python3",
      "display_name": "Python 3"
    },
    "language_info": {
      "name": "python"
    }
  },
  "cells": [
    {
      "cell_type": "code",
      "source": [
        "import os\n",
        "import sys\n",
        "import numpy as np\n",
        "from mrcnn import utils\n",
        "import mrcnn.model as modellib\n",
        "from mrcnn import visualize\n",
        "import coco\n",
        "import matplotlib.pyplot as plt\n",
        "\n",
        "def setup_mask_rcnn_environment(root_dir: str):\n",
        "\n",
        "    # Add root directory to system path\n",
        "    sys.path.append(root_dir)\n",
        "\n",
        "    # Import COCO config\n",
        "    coco_path = os.path.join(root_dir, \"samples/coco/\")\n",
        "    sys.path.append(coco_path)\n",
        "\n",
        "    # Directory to save logs and trained model\n",
        "    model_dir = os.path.join(root_dir, \"logs\")\n",
        "\n",
        "    # Local path to trained weights file\n",
        "    coco_model_path = os.path.join(root_dir, \"mask_rcnn_coco.h5\")\n",
        "\n",
        "    # Download COCO trained weights if needed\n",
        "    if not os.path.exists(coco_model_path):\n",
        "        utils.download_trained_weights(coco_model_path)\n",
        "\n",
        "    # Return relevant paths and settings\n",
        "    return {\n",
        "        \"model_dir\": model_dir,\n",
        "        \"coco_model_path\": coco_model_path,\n",
        "        \"image_dir\": os.path.join(root_dir, \"images\")\n",
        "    }\n",
        "\n",
        "# Usage\n",
        "ROOT_DIR = os.path.abspath(\"../\")\n",
        "config = setup_mask_rcnn_environment(ROOT_DIR)\n",
        "print(config)\n"
      ],
      "metadata": {
        "id": "yWAJYn9KETsw"
      },
      "execution_count": null,
      "outputs": []
    },
    {
      "cell_type": "markdown",
      "source": [
        "reference : https://github.com/matterport/Mask_RCNN/blob/master/samples/demo.ipynb\n"
      ],
      "metadata": {
        "id": "JXAgvwMrFrJT"
      }
    },
    {
      "cell_type": "code",
      "source": [
        "import detectron2\n",
        "from detectron2.config import get_cfg\n",
        "from detectron2.engine import DefaultPredictor\n",
        "\n",
        "# Initialize the configuration\n",
        "cfg = get_cfg()\n",
        "cfg.merge_from_file(\"detectron2/configs/COCO-InstanceSegmentation/mask_rcnn_R_50_FPN_1x.yaml\")\n",
        "cfg.MODEL.ROI_HEADS.NUM_CLASSES = 1  # Number of classes (replace with your actual number)\n",
        "cfg.MODEL.WEIGHTS = \"detectron2/model_zoo/R_50_FPN_1x/mask_rcnn_R_50_FPN_1x.yaml\"  # Path to pre-trained weights\n",
        "\n",
        "# Create a predictor\n",
        "predictor = DefaultPredictor(cfg)\n",
        "\n",
        "# Use\n",
        "image = cv2.imread(\"path/to/your/image.jpg\")\n",
        "outputs = predictor(image)"
      ],
      "metadata": {
        "id": "NvTvbr1JE4sw"
      },
      "execution_count": null,
      "outputs": []
    }
  ]
}