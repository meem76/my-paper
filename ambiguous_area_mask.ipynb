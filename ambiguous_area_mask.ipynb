{
  "nbformat": 4,
  "nbformat_minor": 0,
  "metadata": {
    "colab": {
      "provenance": []
    },
    "kernelspec": {
      "name": "python3",
      "display_name": "Python 3"
    },
    "language_info": {
      "name": "python"
    }
  },
  "cells": [
    {
      "cell_type": "code",
      "execution_count": null,
      "metadata": {
        "id": "HG9tGAbJmzu1"
      },
      "outputs": [],
      "source": [
        "import cv2\n",
        "import numpy as np\n",
        "\n",
        "def create_ambiguous_area_mask(image, segmentation_result, ambiguity_threshold=0.5):\n",
        "\n",
        "\n",
        "    # Convert the image and segmentation result to grayscale\n",
        "    if len(image.shape) > 2:\n",
        "        image = cv2.cvtColor(image, cv2.COLOR_BGR2GRAY)\n",
        "    if len(segmentation_result.shape) > 2:\n",
        "        segmentation_result = cv2.cvtColor(segmentation_result, cv2.COLOR_BGR2GRAY)\n",
        "\n",
        "    # Calculate the uncertainty measure\n",
        "    uncertainty_map = cv2.Laplacian(segmentation_result, cv2.CV_64F)\n",
        "\n",
        "    # Normalize the uncertainty map to the range [0, 1]\n",
        "    uncertainty_map = cv2.normalize(uncertainty_map, None, 0, 1, cv2.NORM_MINMAX)\n",
        "\n",
        "    # Create the ambiguous area mask\n",
        "    ambiguous_mask = (uncertainty_map > ambiguity_threshold).astype(np.uint8)\n",
        "\n",
        "    return ambiguous_mask"
      ]
    },
    {
      "cell_type": "code",
      "source": [
        "# use\n",
        "image = cv2.imread(\"\")\n",
        "segmentation_result = cv2.imread(\"\")\n",
        "\n",
        "\n",
        "ambiguous_mask = create_ambiguous_area_mask(image, segmentation_result)\n",
        "\n",
        "# Visualize the ambiguous area mask\n",
        "cv2.imshow(\"Ambiguous Area Mask\", ambiguous_mask)\n",
        "cv2.waitKey(0)"
      ],
      "metadata": {
        "id": "RKkVGFMjnc6r"
      },
      "execution_count": null,
      "outputs": []
    }
  ]
}