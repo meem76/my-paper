{
  "nbformat": 4,
  "nbformat_minor": 0,
  "metadata": {
    "colab": {
      "provenance": []
    },
    "kernelspec": {
      "name": "python3",
      "display_name": "Python 3"
    },
    "language_info": {
      "name": "python"
    }
  },
  "cells": [
    {
      "cell_type": "code",
      "source": [
        "import numpy as np\n",
        "\n",
        "def k_means_clustering(data, k, max_iter=100):\n",
        "\n",
        "\n",
        "    # Initialize centroids randomly\n",
        "    centroids = data[np.random.choice(len(data), k, replace=False)]\n",
        "\n",
        "    for _ in range(max_iter):\n",
        "        # Assign data points to the nearest centroid\n",
        "        distances = np.sqrt(((data[:, None] - centroids) ** 2).sum(axis=2))\n",
        "        labels = np.argmin(distances, axis=1)\n",
        "\n",
        "        # Update centroids\n",
        "        new_centroids = np.array([data[labels == i].mean(axis=0) for i in range(k)])\n",
        "\n",
        "        # Check for convergence\n",
        "        if np.allclose(centroids, new_centroids):\n",
        "            break\n",
        "\n",
        "        centroids = new_centroids\n",
        "\n",
        "    return labels, centroids\n",
        "\n"
      ],
      "metadata": {
        "id": "CBwjKE1ei22s"
      },
      "execution_count": null,
      "outputs": []
    },
    {
      "cell_type": "code",
      "source": [],
      "metadata": {
        "id": "W1lds_o3i3BG"
      },
      "execution_count": null,
      "outputs": []
    }
  ]
}