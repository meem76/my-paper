{
  "nbformat": 4,
  "nbformat_minor": 0,
  "metadata": {
    "colab": {
      "provenance": []
    },
    "kernelspec": {
      "name": "python3",
      "display_name": "Python 3"
    },
    "language_info": {
      "name": "python"
    }
  },
  "cells": [
    {
      "cell_type": "code",
      "execution_count": null,
      "metadata": {
        "id": "j5iCvPKbkd1r"
      },
      "outputs": [],
      "source": [
        "import cv2\n",
        "import numpy as np\n",
        "\n",
        "def balanced_histogram_thresholding(image):\n",
        "    # Calculate the histogram\n",
        "    hist = cv2.calcHist([image], [0], None, [256], [0, 256])\n",
        "\n",
        "    # Find the valley between the two peaks\n",
        "    valley_index = np.argmin(hist[100:200]) + 100\n",
        "    threshold = valley_index\n",
        "\n",
        "    # Threshold the image\n",
        "    _, thresholded_image = cv2.threshold(image, threshold, 255, cv2.THRESH_BINARY)\n",
        "\n",
        "    return thresholded_image"
      ]
    }
  ]
}